{
 "cells": [
  {
   "cell_type": "code",
   "execution_count": 1,
   "id": "89c07ad9",
   "metadata": {},
   "outputs": [],
   "source": [
    "import pandas as pd\n",
    "import numpy as np\n",
    "import matplotlib.pyplot as plt\n",
    "import seaborn as sns"
   ]
  },
  {
   "cell_type": "code",
   "execution_count": 8,
   "id": "8b52d96d",
   "metadata": {},
   "outputs": [
    {
     "name": "stdout",
     "output_type": "stream",
     "text": [
      "        Activity Period  VIN (1-10)    County           City State  \\\n",
      "0                200507  5YJXCAE26J    Yakima         Yakima    WA   \n",
      "1                200507  JHMZC5F37M    Kitsap        Poulsbo    WA   \n",
      "2                200507  5YJ3E1EB0K      King        Seattle    WA   \n",
      "3                200507  1N4AZ0CP5D      King        Seattle    WA   \n",
      "4                200507  5YJSA1E21H  Thurston          Lacey    WA   \n",
      "...                 ...         ...       ...            ...   ...   \n",
      "130438           200805  7SAYGDEE6P    Pierce     Gig Harbor    WA   \n",
      "130439           200805  1N4BZ1CV7N    Pierce         Tacoma    WA   \n",
      "130440           200805  5YJYGDEE8M      King        Seattle    WA   \n",
      "130441           200805  5YJXCBE22L    Island  Camano Island    WA   \n",
      "130442           200805  5YJ3E1EA5M    Pierce       Puyallup    WA   \n",
      "\n",
      "        Postal Code  Model Year    Make    Model  \\\n",
      "0           98908.0        2018   TESLA  MODEL X   \n",
      "1           98370.0        2021   HONDA  CLARITY   \n",
      "2           98199.0        2019   TESLA  MODEL 3   \n",
      "3           98119.0        2013  NISSAN     LEAF   \n",
      "4           98516.0        2017   TESLA  MODEL S   \n",
      "...             ...         ...     ...      ...   \n",
      "130438      98335.0        2023   TESLA  MODEL Y   \n",
      "130439      98408.0        2022  NISSAN     LEAF   \n",
      "130440      98109.0        2021   TESLA  MODEL Y   \n",
      "130441      98282.0        2020   TESLA  MODEL X   \n",
      "130442      98375.0        2021   TESLA  MODEL 3   \n",
      "\n",
      "                         Electric Vehicle Type  \\\n",
      "0               Battery Electric Vehicle (BEV)   \n",
      "1       Plug-in Hybrid Electric Vehicle (PHEV)   \n",
      "2               Battery Electric Vehicle (BEV)   \n",
      "3               Battery Electric Vehicle (BEV)   \n",
      "4               Battery Electric Vehicle (BEV)   \n",
      "...                                        ...   \n",
      "130438          Battery Electric Vehicle (BEV)   \n",
      "130439          Battery Electric Vehicle (BEV)   \n",
      "130440          Battery Electric Vehicle (BEV)   \n",
      "130441          Battery Electric Vehicle (BEV)   \n",
      "130442          Battery Electric Vehicle (BEV)   \n",
      "\n",
      "        Clean Alternative Fuel Vehicle (CAFV) Eligibility  Electric Range  \\\n",
      "0                 Clean Alternative Fuel Vehicle Eligible             238   \n",
      "1                 Clean Alternative Fuel Vehicle Eligible              47   \n",
      "2                 Clean Alternative Fuel Vehicle Eligible             220   \n",
      "3                 Clean Alternative Fuel Vehicle Eligible              75   \n",
      "4                 Clean Alternative Fuel Vehicle Eligible             210   \n",
      "...                                                   ...             ...   \n",
      "130438  Eligibility unknown as battery range has not b...               0   \n",
      "130439  Eligibility unknown as battery range has not b...               0   \n",
      "130440  Eligibility unknown as battery range has not b...               0   \n",
      "130441            Clean Alternative Fuel Vehicle Eligible             293   \n",
      "130442  Eligibility unknown as battery range has not b...               0   \n",
      "\n",
      "        Base MSRP  Legislative District  DOL Vehicle ID  \\\n",
      "0           33601                  14.0       141151601   \n",
      "1           81775                  23.0       171566447   \n",
      "2           74860                  36.0         9426525   \n",
      "3           92886                  36.0       211807760   \n",
      "4           57112                  22.0       185810306   \n",
      "...           ...                   ...             ...   \n",
      "130438      23603                  26.0       231134102   \n",
      "130439      69966                  29.0       185810943   \n",
      "130440      64564                  36.0       176542418   \n",
      "130441      48150                  10.0       102834938   \n",
      "130442      85288                   2.0       180473639   \n",
      "\n",
      "                                      Vehicle Location  \\\n",
      "0                          POINT (-120.56916 46.58514)   \n",
      "1                          POINT (-122.64681 47.73689)   \n",
      "2                          POINT (-122.40092 47.65908)   \n",
      "3                           POINT (-122.3684 47.64586)   \n",
      "4                          POINT (-122.75379 47.06316)   \n",
      "...                                                ...   \n",
      "130438   POINT (-122.58354539999999 47.32344880000005)   \n",
      "130439  POINT (-122.43810499999995 47.203220000000044)   \n",
      "130440                     POINT (-122.35022 47.63824)   \n",
      "130441                     POINT (-122.40049 48.23986)   \n",
      "130442                      POINT (-122.30116 47.1165)   \n",
      "\n",
      "                                         Electric Utility  2020 Census Tract  \n",
      "0                                              PACIFICORP       5.307700e+10  \n",
      "1                                  PUGET SOUND ENERGY INC       5.303509e+10  \n",
      "2            CITY OF SEATTLE - (WA)|CITY OF TACOMA - (WA)       5.303301e+10  \n",
      "3            CITY OF SEATTLE - (WA)|CITY OF TACOMA - (WA)       5.303301e+10  \n",
      "4                                  PUGET SOUND ENERGY INC       5.306701e+10  \n",
      "...                                                   ...                ...  \n",
      "130438  BONNEVILLE POWER ADMINISTRATION||CITY OF TACOM...       5.305307e+10  \n",
      "130439  BONNEVILLE POWER ADMINISTRATION||CITY OF TACOM...       5.305306e+10  \n",
      "130440       CITY OF SEATTLE - (WA)|CITY OF TACOMA - (WA)       5.303301e+10  \n",
      "130441  BONNEVILLE POWER ADMINISTRATION||PUD 1 OF SNOH...       5.302997e+10  \n",
      "130442  BONNEVILLE POWER ADMINISTRATION||CITY OF TACOM...       5.305307e+10  \n",
      "\n",
      "[130443 rows x 18 columns]\n"
     ]
    }
   ],
   "source": [
    "import pandas as pd\n",
    "df1 = pd.read_excel(\"Electric_Vehicle_Population_Data.xlsx\")\n",
    "print(df1)"
   ]
  },
  {
   "cell_type": "code",
   "execution_count": 9,
   "id": "621a38d5",
   "metadata": {},
   "outputs": [
    {
     "data": {
      "text/html": [
       "<div>\n",
       "<style scoped>\n",
       "    .dataframe tbody tr th:only-of-type {\n",
       "        vertical-align: middle;\n",
       "    }\n",
       "\n",
       "    .dataframe tbody tr th {\n",
       "        vertical-align: top;\n",
       "    }\n",
       "\n",
       "    .dataframe thead th {\n",
       "        text-align: right;\n",
       "    }\n",
       "</style>\n",
       "<table border=\"1\" class=\"dataframe\">\n",
       "  <thead>\n",
       "    <tr style=\"text-align: right;\">\n",
       "      <th></th>\n",
       "      <th>Activity Period</th>\n",
       "      <th>VIN (1-10)</th>\n",
       "      <th>County</th>\n",
       "      <th>City</th>\n",
       "      <th>State</th>\n",
       "      <th>Postal Code</th>\n",
       "      <th>Model Year</th>\n",
       "      <th>Make</th>\n",
       "      <th>Model</th>\n",
       "      <th>Electric Vehicle Type</th>\n",
       "      <th>Clean Alternative Fuel Vehicle (CAFV) Eligibility</th>\n",
       "      <th>Electric Range</th>\n",
       "      <th>Base MSRP</th>\n",
       "      <th>Legislative District</th>\n",
       "      <th>DOL Vehicle ID</th>\n",
       "      <th>Vehicle Location</th>\n",
       "      <th>Electric Utility</th>\n",
       "      <th>2020 Census Tract</th>\n",
       "    </tr>\n",
       "  </thead>\n",
       "  <tbody>\n",
       "    <tr>\n",
       "      <th>0</th>\n",
       "      <td>200507</td>\n",
       "      <td>5YJXCAE26J</td>\n",
       "      <td>Yakima</td>\n",
       "      <td>Yakima</td>\n",
       "      <td>WA</td>\n",
       "      <td>98908.0</td>\n",
       "      <td>2018</td>\n",
       "      <td>TESLA</td>\n",
       "      <td>MODEL X</td>\n",
       "      <td>Battery Electric Vehicle (BEV)</td>\n",
       "      <td>Clean Alternative Fuel Vehicle Eligible</td>\n",
       "      <td>238</td>\n",
       "      <td>33601</td>\n",
       "      <td>14.0</td>\n",
       "      <td>141151601</td>\n",
       "      <td>POINT (-120.56916 46.58514)</td>\n",
       "      <td>PACIFICORP</td>\n",
       "      <td>5.307700e+10</td>\n",
       "    </tr>\n",
       "    <tr>\n",
       "      <th>1</th>\n",
       "      <td>200507</td>\n",
       "      <td>JHMZC5F37M</td>\n",
       "      <td>Kitsap</td>\n",
       "      <td>Poulsbo</td>\n",
       "      <td>WA</td>\n",
       "      <td>98370.0</td>\n",
       "      <td>2021</td>\n",
       "      <td>HONDA</td>\n",
       "      <td>CLARITY</td>\n",
       "      <td>Plug-in Hybrid Electric Vehicle (PHEV)</td>\n",
       "      <td>Clean Alternative Fuel Vehicle Eligible</td>\n",
       "      <td>47</td>\n",
       "      <td>81775</td>\n",
       "      <td>23.0</td>\n",
       "      <td>171566447</td>\n",
       "      <td>POINT (-122.64681 47.73689)</td>\n",
       "      <td>PUGET SOUND ENERGY INC</td>\n",
       "      <td>5.303509e+10</td>\n",
       "    </tr>\n",
       "    <tr>\n",
       "      <th>2</th>\n",
       "      <td>200507</td>\n",
       "      <td>5YJ3E1EB0K</td>\n",
       "      <td>King</td>\n",
       "      <td>Seattle</td>\n",
       "      <td>WA</td>\n",
       "      <td>98199.0</td>\n",
       "      <td>2019</td>\n",
       "      <td>TESLA</td>\n",
       "      <td>MODEL 3</td>\n",
       "      <td>Battery Electric Vehicle (BEV)</td>\n",
       "      <td>Clean Alternative Fuel Vehicle Eligible</td>\n",
       "      <td>220</td>\n",
       "      <td>74860</td>\n",
       "      <td>36.0</td>\n",
       "      <td>9426525</td>\n",
       "      <td>POINT (-122.40092 47.65908)</td>\n",
       "      <td>CITY OF SEATTLE - (WA)|CITY OF TACOMA - (WA)</td>\n",
       "      <td>5.303301e+10</td>\n",
       "    </tr>\n",
       "    <tr>\n",
       "      <th>3</th>\n",
       "      <td>200507</td>\n",
       "      <td>1N4AZ0CP5D</td>\n",
       "      <td>King</td>\n",
       "      <td>Seattle</td>\n",
       "      <td>WA</td>\n",
       "      <td>98119.0</td>\n",
       "      <td>2013</td>\n",
       "      <td>NISSAN</td>\n",
       "      <td>LEAF</td>\n",
       "      <td>Battery Electric Vehicle (BEV)</td>\n",
       "      <td>Clean Alternative Fuel Vehicle Eligible</td>\n",
       "      <td>75</td>\n",
       "      <td>92886</td>\n",
       "      <td>36.0</td>\n",
       "      <td>211807760</td>\n",
       "      <td>POINT (-122.3684 47.64586)</td>\n",
       "      <td>CITY OF SEATTLE - (WA)|CITY OF TACOMA - (WA)</td>\n",
       "      <td>5.303301e+10</td>\n",
       "    </tr>\n",
       "    <tr>\n",
       "      <th>4</th>\n",
       "      <td>200507</td>\n",
       "      <td>5YJSA1E21H</td>\n",
       "      <td>Thurston</td>\n",
       "      <td>Lacey</td>\n",
       "      <td>WA</td>\n",
       "      <td>98516.0</td>\n",
       "      <td>2017</td>\n",
       "      <td>TESLA</td>\n",
       "      <td>MODEL S</td>\n",
       "      <td>Battery Electric Vehicle (BEV)</td>\n",
       "      <td>Clean Alternative Fuel Vehicle Eligible</td>\n",
       "      <td>210</td>\n",
       "      <td>57112</td>\n",
       "      <td>22.0</td>\n",
       "      <td>185810306</td>\n",
       "      <td>POINT (-122.75379 47.06316)</td>\n",
       "      <td>PUGET SOUND ENERGY INC</td>\n",
       "      <td>5.306701e+10</td>\n",
       "    </tr>\n",
       "  </tbody>\n",
       "</table>\n",
       "</div>"
      ],
      "text/plain": [
       "   Activity Period  VIN (1-10)    County     City State  Postal Code  \\\n",
       "0           200507  5YJXCAE26J    Yakima   Yakima    WA      98908.0   \n",
       "1           200507  JHMZC5F37M    Kitsap  Poulsbo    WA      98370.0   \n",
       "2           200507  5YJ3E1EB0K      King  Seattle    WA      98199.0   \n",
       "3           200507  1N4AZ0CP5D      King  Seattle    WA      98119.0   \n",
       "4           200507  5YJSA1E21H  Thurston    Lacey    WA      98516.0   \n",
       "\n",
       "   Model Year    Make    Model                   Electric Vehicle Type  \\\n",
       "0        2018   TESLA  MODEL X          Battery Electric Vehicle (BEV)   \n",
       "1        2021   HONDA  CLARITY  Plug-in Hybrid Electric Vehicle (PHEV)   \n",
       "2        2019   TESLA  MODEL 3          Battery Electric Vehicle (BEV)   \n",
       "3        2013  NISSAN     LEAF          Battery Electric Vehicle (BEV)   \n",
       "4        2017   TESLA  MODEL S          Battery Electric Vehicle (BEV)   \n",
       "\n",
       "  Clean Alternative Fuel Vehicle (CAFV) Eligibility  Electric Range  \\\n",
       "0           Clean Alternative Fuel Vehicle Eligible             238   \n",
       "1           Clean Alternative Fuel Vehicle Eligible              47   \n",
       "2           Clean Alternative Fuel Vehicle Eligible             220   \n",
       "3           Clean Alternative Fuel Vehicle Eligible              75   \n",
       "4           Clean Alternative Fuel Vehicle Eligible             210   \n",
       "\n",
       "   Base MSRP  Legislative District  DOL Vehicle ID  \\\n",
       "0      33601                  14.0       141151601   \n",
       "1      81775                  23.0       171566447   \n",
       "2      74860                  36.0         9426525   \n",
       "3      92886                  36.0       211807760   \n",
       "4      57112                  22.0       185810306   \n",
       "\n",
       "              Vehicle Location                              Electric Utility  \\\n",
       "0  POINT (-120.56916 46.58514)                                    PACIFICORP   \n",
       "1  POINT (-122.64681 47.73689)                        PUGET SOUND ENERGY INC   \n",
       "2  POINT (-122.40092 47.65908)  CITY OF SEATTLE - (WA)|CITY OF TACOMA - (WA)   \n",
       "3   POINT (-122.3684 47.64586)  CITY OF SEATTLE - (WA)|CITY OF TACOMA - (WA)   \n",
       "4  POINT (-122.75379 47.06316)                        PUGET SOUND ENERGY INC   \n",
       "\n",
       "   2020 Census Tract  \n",
       "0       5.307700e+10  \n",
       "1       5.303509e+10  \n",
       "2       5.303301e+10  \n",
       "3       5.303301e+10  \n",
       "4       5.306701e+10  "
      ]
     },
     "execution_count": 9,
     "metadata": {},
     "output_type": "execute_result"
    }
   ],
   "source": [
    "df1.head(5)"
   ]
  },
  {
   "cell_type": "code",
   "execution_count": 10,
   "id": "7b962d51",
   "metadata": {},
   "outputs": [
    {
     "name": "stdout",
     "output_type": "stream",
     "text": [
      "<class 'pandas.core.frame.DataFrame'>\n",
      "RangeIndex: 130443 entries, 0 to 130442\n",
      "Data columns (total 18 columns):\n",
      " #   Column                                             Non-Null Count   Dtype  \n",
      "---  ------                                             --------------   -----  \n",
      " 0   Activity Period                                    130443 non-null  int64  \n",
      " 1   VIN (1-10)                                         130443 non-null  object \n",
      " 2   County                                             130440 non-null  object \n",
      " 3   City                                               130440 non-null  object \n",
      " 4   State                                              130443 non-null  object \n",
      " 5   Postal Code                                        130440 non-null  float64\n",
      " 6   Model Year                                         130443 non-null  int64  \n",
      " 7   Make                                               130443 non-null  object \n",
      " 8   Model                                              130221 non-null  object \n",
      " 9   Electric Vehicle Type                              130403 non-null  object \n",
      " 10  Clean Alternative Fuel Vehicle (CAFV) Eligibility  130443 non-null  object \n",
      " 11  Electric Range                                     130443 non-null  int64  \n",
      " 12  Base MSRP                                          130443 non-null  int64  \n",
      " 13  Legislative District                               130138 non-null  float64\n",
      " 14  DOL Vehicle ID                                     130443 non-null  int64  \n",
      " 15  Vehicle Location                                   130410 non-null  object \n",
      " 16  Electric Utility                                   130440 non-null  object \n",
      " 17  2020 Census Tract                                  130440 non-null  float64\n",
      "dtypes: float64(3), int64(5), object(10)\n",
      "memory usage: 17.9+ MB\n"
     ]
    }
   ],
   "source": [
    "df1.info()"
   ]
  },
  {
   "cell_type": "code",
   "execution_count": 11,
   "id": "bf244b89",
   "metadata": {},
   "outputs": [
    {
     "data": {
      "text/plain": [
       "(130443, 18)"
      ]
     },
     "execution_count": 11,
     "metadata": {},
     "output_type": "execute_result"
    }
   ],
   "source": [
    "df1.shape"
   ]
  },
  {
   "cell_type": "code",
   "execution_count": 22,
   "id": "b73fc150",
   "metadata": {},
   "outputs": [
    {
     "data": {
      "text/plain": [
       "Index(['Activity Period', 'VIN (1-10)', 'County', 'City', 'State',\n",
       "       'Postal Code', 'Model Year', 'Make', 'Model', 'Electric Vehicle Type',\n",
       "       'Clean Alternative Fuel Vehicle (CAFV) Eligibility', 'Electric Range',\n",
       "       'Base MSRP', 'Legislative District', 'DOL Vehicle ID',\n",
       "       'Vehicle Location', 'Electric Utility', '2020 Census Tract'],\n",
       "      dtype='object')"
      ]
     },
     "execution_count": 22,
     "metadata": {},
     "output_type": "execute_result"
    }
   ],
   "source": [
    "df1.columns"
   ]
  },
  {
   "cell_type": "code",
   "execution_count": 23,
   "id": "2313b190",
   "metadata": {},
   "outputs": [
    {
     "data": {
      "text/plain": [
       "Activity Period                                        int64\n",
       "VIN (1-10)                                            object\n",
       "County                                                object\n",
       "City                                                  object\n",
       "State                                                 object\n",
       "Postal Code                                          float64\n",
       "Model Year                                             int64\n",
       "Make                                                  object\n",
       "Model                                                 object\n",
       "Electric Vehicle Type                                 object\n",
       "Clean Alternative Fuel Vehicle (CAFV) Eligibility     object\n",
       "Electric Range                                         int64\n",
       "Base MSRP                                              int64\n",
       "Legislative District                                 float64\n",
       "DOL Vehicle ID                                         int64\n",
       "Vehicle Location                                      object\n",
       "Electric Utility                                      object\n",
       "2020 Census Tract                                    float64\n",
       "dtype: object"
      ]
     },
     "execution_count": 23,
     "metadata": {},
     "output_type": "execute_result"
    }
   ],
   "source": [
    "df1.dtypes"
   ]
  },
  {
   "cell_type": "code",
   "execution_count": 13,
   "id": "ba36ad2a",
   "metadata": {},
   "outputs": [
    {
     "data": {
      "text/html": [
       "<div>\n",
       "<style scoped>\n",
       "    .dataframe tbody tr th:only-of-type {\n",
       "        vertical-align: middle;\n",
       "    }\n",
       "\n",
       "    .dataframe tbody tr th {\n",
       "        vertical-align: top;\n",
       "    }\n",
       "\n",
       "    .dataframe thead th {\n",
       "        text-align: right;\n",
       "    }\n",
       "</style>\n",
       "<table border=\"1\" class=\"dataframe\">\n",
       "  <thead>\n",
       "    <tr style=\"text-align: right;\">\n",
       "      <th></th>\n",
       "      <th>Activity Period</th>\n",
       "      <th>Postal Code</th>\n",
       "      <th>Model Year</th>\n",
       "      <th>Electric Range</th>\n",
       "      <th>Base MSRP</th>\n",
       "      <th>Legislative District</th>\n",
       "      <th>DOL Vehicle ID</th>\n",
       "      <th>2020 Census Tract</th>\n",
       "    </tr>\n",
       "  </thead>\n",
       "  <tbody>\n",
       "    <tr>\n",
       "      <th>count</th>\n",
       "      <td>130443.000000</td>\n",
       "      <td>130440.000000</td>\n",
       "      <td>130443.000000</td>\n",
       "      <td>130443.000000</td>\n",
       "      <td>130443.000000</td>\n",
       "      <td>130138.000000</td>\n",
       "      <td>1.304430e+05</td>\n",
       "      <td>1.304400e+05</td>\n",
       "    </tr>\n",
       "    <tr>\n",
       "      <th>mean</th>\n",
       "      <td>201365.208528</td>\n",
       "      <td>98167.633878</td>\n",
       "      <td>2019.554633</td>\n",
       "      <td>76.705718</td>\n",
       "      <td>54979.749492</td>\n",
       "      <td>29.577026</td>\n",
       "      <td>2.051796e+08</td>\n",
       "      <td>5.297177e+10</td>\n",
       "    </tr>\n",
       "    <tr>\n",
       "      <th>std</th>\n",
       "      <td>502.859680</td>\n",
       "      <td>2492.197784</td>\n",
       "      <td>2.989137</td>\n",
       "      <td>99.421571</td>\n",
       "      <td>25921.294087</td>\n",
       "      <td>14.767508</td>\n",
       "      <td>8.710573e+07</td>\n",
       "      <td>1.640658e+09</td>\n",
       "    </tr>\n",
       "    <tr>\n",
       "      <th>min</th>\n",
       "      <td>200507.000000</td>\n",
       "      <td>1730.000000</td>\n",
       "      <td>1997.000000</td>\n",
       "      <td>0.000000</td>\n",
       "      <td>10000.000000</td>\n",
       "      <td>1.000000</td>\n",
       "      <td>4.385000e+03</td>\n",
       "      <td>1.081042e+09</td>\n",
       "    </tr>\n",
       "    <tr>\n",
       "      <th>25%</th>\n",
       "      <td>200907.000000</td>\n",
       "      <td>98052.000000</td>\n",
       "      <td>2018.000000</td>\n",
       "      <td>0.000000</td>\n",
       "      <td>32563.500000</td>\n",
       "      <td>18.000000</td>\n",
       "      <td>1.568004e+08</td>\n",
       "      <td>5.303301e+10</td>\n",
       "    </tr>\n",
       "    <tr>\n",
       "      <th>50%</th>\n",
       "      <td>201404.000000</td>\n",
       "      <td>98121.000000</td>\n",
       "      <td>2020.000000</td>\n",
       "      <td>23.000000</td>\n",
       "      <td>54958.000000</td>\n",
       "      <td>34.000000</td>\n",
       "      <td>2.034934e+08</td>\n",
       "      <td>5.303303e+10</td>\n",
       "    </tr>\n",
       "    <tr>\n",
       "      <th>75%</th>\n",
       "      <td>201806.000000</td>\n",
       "      <td>98370.000000</td>\n",
       "      <td>2022.000000</td>\n",
       "      <td>151.000000</td>\n",
       "      <td>76971.500000</td>\n",
       "      <td>43.000000</td>\n",
       "      <td>2.290791e+08</td>\n",
       "      <td>5.305307e+10</td>\n",
       "    </tr>\n",
       "    <tr>\n",
       "      <th>max</th>\n",
       "      <td>202212.000000</td>\n",
       "      <td>99701.000000</td>\n",
       "      <td>2023.000000</td>\n",
       "      <td>337.000000</td>\n",
       "      <td>845000.000000</td>\n",
       "      <td>49.000000</td>\n",
       "      <td>4.792548e+08</td>\n",
       "      <td>5.603300e+10</td>\n",
       "    </tr>\n",
       "  </tbody>\n",
       "</table>\n",
       "</div>"
      ],
      "text/plain": [
       "       Activity Period    Postal Code     Model Year  Electric Range  \\\n",
       "count    130443.000000  130440.000000  130443.000000   130443.000000   \n",
       "mean     201365.208528   98167.633878    2019.554633       76.705718   \n",
       "std         502.859680    2492.197784       2.989137       99.421571   \n",
       "min      200507.000000    1730.000000    1997.000000        0.000000   \n",
       "25%      200907.000000   98052.000000    2018.000000        0.000000   \n",
       "50%      201404.000000   98121.000000    2020.000000       23.000000   \n",
       "75%      201806.000000   98370.000000    2022.000000      151.000000   \n",
       "max      202212.000000   99701.000000    2023.000000      337.000000   \n",
       "\n",
       "           Base MSRP  Legislative District  DOL Vehicle ID  2020 Census Tract  \n",
       "count  130443.000000         130138.000000    1.304430e+05       1.304400e+05  \n",
       "mean    54979.749492             29.577026    2.051796e+08       5.297177e+10  \n",
       "std     25921.294087             14.767508    8.710573e+07       1.640658e+09  \n",
       "min     10000.000000              1.000000    4.385000e+03       1.081042e+09  \n",
       "25%     32563.500000             18.000000    1.568004e+08       5.303301e+10  \n",
       "50%     54958.000000             34.000000    2.034934e+08       5.303303e+10  \n",
       "75%     76971.500000             43.000000    2.290791e+08       5.305307e+10  \n",
       "max    845000.000000             49.000000    4.792548e+08       5.603300e+10  "
      ]
     },
     "execution_count": 13,
     "metadata": {},
     "output_type": "execute_result"
    }
   ],
   "source": [
    "df1.describe()"
   ]
  },
  {
   "cell_type": "code",
   "execution_count": 14,
   "id": "fcf14899",
   "metadata": {},
   "outputs": [
    {
     "data": {
      "text/plain": [
       "Activity Period                                        0\n",
       "VIN (1-10)                                             0\n",
       "County                                                 3\n",
       "City                                                   3\n",
       "State                                                  0\n",
       "Postal Code                                            3\n",
       "Model Year                                             0\n",
       "Make                                                   0\n",
       "Model                                                222\n",
       "Electric Vehicle Type                                 40\n",
       "Clean Alternative Fuel Vehicle (CAFV) Eligibility      0\n",
       "Electric Range                                         0\n",
       "Base MSRP                                              0\n",
       "Legislative District                                 305\n",
       "DOL Vehicle ID                                         0\n",
       "Vehicle Location                                      33\n",
       "Electric Utility                                       3\n",
       "2020 Census Tract                                      3\n",
       "dtype: int64"
      ]
     },
     "execution_count": 14,
     "metadata": {},
     "output_type": "execute_result"
    }
   ],
   "source": [
    "df1.isnull().sum()"
   ]
  },
  {
   "cell_type": "code",
   "execution_count": 15,
   "id": "1af0cc58",
   "metadata": {},
   "outputs": [],
   "source": [
    "df1.dropna(inplace=True)"
   ]
  },
  {
   "cell_type": "code",
   "execution_count": 16,
   "id": "b131b9e7",
   "metadata": {},
   "outputs": [
    {
     "data": {
      "text/plain": [
       "Activity Period                                      0\n",
       "VIN (1-10)                                           0\n",
       "County                                               0\n",
       "City                                                 0\n",
       "State                                                0\n",
       "Postal Code                                          0\n",
       "Model Year                                           0\n",
       "Make                                                 0\n",
       "Model                                                0\n",
       "Electric Vehicle Type                                0\n",
       "Clean Alternative Fuel Vehicle (CAFV) Eligibility    0\n",
       "Electric Range                                       0\n",
       "Base MSRP                                            0\n",
       "Legislative District                                 0\n",
       "DOL Vehicle ID                                       0\n",
       "Vehicle Location                                     0\n",
       "Electric Utility                                     0\n",
       "2020 Census Tract                                    0\n",
       "dtype: int64"
      ]
     },
     "execution_count": 16,
     "metadata": {},
     "output_type": "execute_result"
    }
   ],
   "source": [
    "df1.isnull().sum()"
   ]
  },
  {
   "cell_type": "code",
   "execution_count": 17,
   "id": "eba7ffe3",
   "metadata": {},
   "outputs": [
    {
     "data": {
      "text/plain": [
       "TESLA                   59459\n",
       "NISSAN                  12999\n",
       "CHEVROLET               11228\n",
       "FORD                     6706\n",
       "BMW                      5679\n",
       "KIA                      5245\n",
       "TOYOTA                   4745\n",
       "VOLKSWAGEN               3424\n",
       "VOLVO                    2882\n",
       "AUDI                     2615\n",
       "JEEP                     2318\n",
       "HYUNDAI                  2139\n",
       "CHRYSLER                 2126\n",
       "RIVIAN                   1611\n",
       "PORSCHE                   934\n",
       "FIAT                      802\n",
       "HONDA                     789\n",
       "MINI                      727\n",
       "MERCEDES-BENZ             710\n",
       "MITSUBISHI                708\n",
       "POLESTAR                  647\n",
       "SMART                     276\n",
       "SUBARU                    231\n",
       "JAGUAR                    222\n",
       "LINCOLN                   207\n",
       "LUCID                     133\n",
       "CADILLAC                  102\n",
       "LEXUS                      64\n",
       "GENESIS                    54\n",
       "LAND ROVER                 40\n",
       "FISKER                     13\n",
       "AZURE DYNAMICS              7\n",
       "TH!NK                       3\n",
       "WHEEGO ELECTRIC CARS        3\n",
       "BENTLEY                     3\n",
       "Name: Make, dtype: int64"
      ]
     },
     "execution_count": 17,
     "metadata": {},
     "output_type": "execute_result"
    }
   ],
   "source": [
    "df1['Make'].value_counts()"
   ]
  },
  {
   "cell_type": "code",
   "execution_count": 21,
   "id": "03ef66fe",
   "metadata": {},
   "outputs": [
    {
     "data": {
      "text/plain": [
       "<AxesSubplot:>"
      ]
     },
     "execution_count": 21,
     "metadata": {},
     "output_type": "execute_result"
    },
    {
     "data": {
      "image/png": "[encoded data removed]",
      "text/plain": [
       "<Figure size 432x288 with 2 Axes>"
      ]
     },
     "metadata": {
      "needs_background": "light"
     },
     "output_type": "display_data"
    }
   ],
   "source": [
    "sns.heatmap(df1.isnull())"
   ]
  },
  {
   "cell_type": "code",
   "execution_count": 24,
   "id": "039fe60a",
   "metadata": {},
   "outputs": [
    {
     "data": {
      "text/plain": [
       "MODEL 3        25223\n",
       "MODEL Y        22026\n",
       "LEAF           12938\n",
       "MODEL S         7380\n",
       "BOLT EV         5329\n",
       "               ...  \n",
       "745LE              2\n",
       "BENTAYGA           2\n",
       "918                1\n",
       "FLYING SPUR        1\n",
       "S-10 PICKUP        1\n",
       "Name: Model, Length: 121, dtype: int64"
      ]
     },
     "execution_count": 24,
     "metadata": {},
     "output_type": "execute_result"
    }
   ],
   "source": [
    "df1['Model'].value_counts()"
   ]
  },
  {
   "cell_type": "code",
   "execution_count": 26,
   "id": "e6f3e9ec",
   "metadata": {},
   "outputs": [
    {
     "data": {
      "text/plain": [
       "Battery Electric Vehicle (BEV)            99692\n",
       "Plug-in Hybrid Electric Vehicle (PHEV)    30159\n",
       "Name: Electric Vehicle Type, dtype: int64"
      ]
     },
     "execution_count": 26,
     "metadata": {},
     "output_type": "execute_result"
    }
   ],
   "source": [
    "df1['Electric Vehicle Type'].value_counts()"
   ]
  },
  {
   "cell_type": "code",
   "execution_count": 27,
   "id": "222a626e",
   "metadata": {},
   "outputs": [
    {
     "data": {
      "text/plain": [
       "Clean Alternative Fuel Vehicle Eligible                         60389\n",
       "Eligibility unknown as battery range has not been researched    53095\n",
       "Not eligible due to low battery range                           16367\n",
       "Name: Clean Alternative Fuel Vehicle (CAFV) Eligibility, dtype: int64"
      ]
     },
     "execution_count": 27,
     "metadata": {},
     "output_type": "execute_result"
    }
   ],
   "source": [
    "df1['Clean Alternative Fuel Vehicle (CAFV) Eligibility'].value_counts()"
   ]
  },
  {
   "cell_type": "code",
   "execution_count": 28,
   "id": "a72751df",
   "metadata": {},
   "outputs": [
    {
     "data": {
      "text/plain": [
       "PUGET SOUND ENERGY INC||CITY OF TACOMA - (WA)                                                                 47392\n",
       "PUGET SOUND ENERGY INC                                                                                        25594\n",
       "CITY OF SEATTLE - (WA)|CITY OF TACOMA - (WA)                                                                  24160\n",
       "BONNEVILLE POWER ADMINISTRATION||PUD NO 1 OF CLARK COUNTY - (WA)                                               7512\n",
       "BONNEVILLE POWER ADMINISTRATION||CITY OF TACOMA - (WA)||PENINSULA LIGHT COMPANY                                5816\n",
       "                                                                                                              ...  \n",
       "BONNEVILLE POWER ADMINISTRATION||CITY OF COULEE DAM - (WA)                                                        2\n",
       "BONNEVILLE POWER ADMINISTRATION||CITY OF TACOMA - (WA)||ALDER MUTUAL LIGHT CO, INC|PENINSULA LIGHT COMPANY        1\n",
       "BONNEVILLE POWER ADMINISTRATION||PUD NO 1 OF ASOTIN COUNTY                                                        1\n",
       "BONNEVILLE POWER ADMINISTRATION||PENINSULA LIGHT COMPANY                                                          1\n",
       "CITY OF SEATTLE - (WA)                                                                                            1\n",
       "Name: Electric Utility, Length: 74, dtype: int64"
      ]
     },
     "execution_count": 28,
     "metadata": {},
     "output_type": "execute_result"
    }
   ],
   "source": [
    "df1['Electric Utility'].value_counts()"
   ]
  },
  {
   "cell_type": "code",
   "execution_count": 29,
   "id": "3df2f6a1",
   "metadata": {},
   "outputs": [
    {
     "data": {
      "text/plain": [
       "Seattle           22816\n",
       "Bellevue           6730\n",
       "Redmond            4810\n",
       "Vancouver          4647\n",
       "Kirkland           4064\n",
       "                  ...  \n",
       "Smith Creek           1\n",
       "Deer Harbor           1\n",
       "Walla Walla Co        1\n",
       "Klickitat             1\n",
       "Napavine              1\n",
       "Name: City, Length: 449, dtype: int64"
      ]
     },
     "execution_count": 29,
     "metadata": {},
     "output_type": "execute_result"
    }
   ],
   "source": [
    "df1['City'].value_counts()"
   ]
  },
  {
   "cell_type": "code",
   "execution_count": 31,
   "id": "0e97e14d",
   "metadata": {},
   "outputs": [
    {
     "data": {
      "text/html": [
       "<div>\n",
       "<style scoped>\n",
       "    .dataframe tbody tr th:only-of-type {\n",
       "        vertical-align: middle;\n",
       "    }\n",
       "\n",
       "    .dataframe tbody tr th {\n",
       "        vertical-align: top;\n",
       "    }\n",
       "\n",
       "    .dataframe thead th {\n",
       "        text-align: right;\n",
       "    }\n",
       "</style>\n",
       "<table border=\"1\" class=\"dataframe\">\n",
       "  <thead>\n",
       "    <tr style=\"text-align: right;\">\n",
       "      <th></th>\n",
       "      <th>Electric Range</th>\n",
       "      <th>Base MSRP</th>\n",
       "    </tr>\n",
       "  </thead>\n",
       "  <tbody>\n",
       "    <tr>\n",
       "      <th>count</th>\n",
       "      <td>129851.000000</td>\n",
       "      <td>129851.000000</td>\n",
       "    </tr>\n",
       "    <tr>\n",
       "      <th>mean</th>\n",
       "      <td>76.846070</td>\n",
       "      <td>54965.973362</td>\n",
       "    </tr>\n",
       "    <tr>\n",
       "      <th>std</th>\n",
       "      <td>99.456812</td>\n",
       "      <td>25922.320673</td>\n",
       "    </tr>\n",
       "    <tr>\n",
       "      <th>min</th>\n",
       "      <td>0.000000</td>\n",
       "      <td>10000.000000</td>\n",
       "    </tr>\n",
       "    <tr>\n",
       "      <th>25%</th>\n",
       "      <td>0.000000</td>\n",
       "      <td>32538.500000</td>\n",
       "    </tr>\n",
       "    <tr>\n",
       "      <th>50%</th>\n",
       "      <td>24.000000</td>\n",
       "      <td>54950.000000</td>\n",
       "    </tr>\n",
       "    <tr>\n",
       "      <th>75%</th>\n",
       "      <td>151.000000</td>\n",
       "      <td>76959.000000</td>\n",
       "    </tr>\n",
       "    <tr>\n",
       "      <th>max</th>\n",
       "      <td>337.000000</td>\n",
       "      <td>845000.000000</td>\n",
       "    </tr>\n",
       "  </tbody>\n",
       "</table>\n",
       "</div>"
      ],
      "text/plain": [
       "       Electric Range      Base MSRP\n",
       "count   129851.000000  129851.000000\n",
       "mean        76.846070   54965.973362\n",
       "std         99.456812   25922.320673\n",
       "min          0.000000   10000.000000\n",
       "25%          0.000000   32538.500000\n",
       "50%         24.000000   54950.000000\n",
       "75%        151.000000   76959.000000\n",
       "max        337.000000  845000.000000"
      ]
     },
     "execution_count": 31,
     "metadata": {},
     "output_type": "execute_result"
    }
   ],
   "source": [
    "df1[['Electric Range','Base MSRP']].describe()"
   ]
  },
  {
   "cell_type": "code",
   "execution_count": 32,
   "id": "9ed8fc09",
   "metadata": {},
   "outputs": [
    {
     "data": {
      "text/plain": [
       "<AxesSubplot:xlabel='Model Year', ylabel='Count'>"
      ]
     },
     "execution_count": 32,
     "metadata": {},
     "output_type": "execute_result"
    },
    {
     "data": {
      "image/png": "[encoded data removed]",
      "text/plain": [
       "<Figure size 432x288 with 1 Axes>"
      ]
     },
     "metadata": {
      "needs_background": "light"
     },
     "output_type": "display_data"
    }
   ],
   "source": [
    "sns.histplot(data=df1, x=\"Model Year\", bins=20)"
   ]
  },
  {
   "cell_type": "code",
   "execution_count": 33,
   "id": "1b7f7101",
   "metadata": {},
   "outputs": [
    {
     "data": {
      "text/plain": [
       "<AxesSubplot:xlabel='Electric Range', ylabel='Count'>"
      ]
     },
     "execution_count": 33,
     "metadata": {},
     "output_type": "execute_result"
    },
    {
     "data": {
      "image/png": "[encoded data removed]",
      "text/plain": [
       "<Figure size 432x288 with 1 Axes>"
      ]
     },
     "metadata": {
      "needs_background": "light"
     },
     "output_type": "display_data"
    }
   ],
   "source": [
    "sns.histplot(data=df1, x=\"Electric Range\", hue=\"Clean Alternative Fuel Vehicle (CAFV) Eligibility\", multiple=\"stack\")"
   ]
  },
  {
   "cell_type": "code",
   "execution_count": 34,
   "id": "c4f0b13b",
   "metadata": {},
   "outputs": [
    {
     "data": {
      "text/plain": [
       "<seaborn.axisgrid.FacetGrid at 0x1f34122e460>"
      ]
     },
     "execution_count": 34,
     "metadata": {},
     "output_type": "execute_result"
    },
    {
     "data": {
      "image/png": "[encoded data removed]",
      "text/plain": [
       "<Figure size 720x360 with 2 Axes>"
      ]
     },
     "metadata": {
      "needs_background": "light"
     },
     "output_type": "display_data"
    }
   ],
   "source": [
    "sns.displot(data=df1, x=\"Electric Range\", col=\"Electric Vehicle Type\", kde=True)"
   ]
  },
  {
   "cell_type": "code",
   "execution_count": 35,
   "id": "f02fa9a8",
   "metadata": {},
   "outputs": [
    {
     "data": {
      "text/plain": [
       "<AxesSubplot:xlabel='Electric Range', ylabel='Base MSRP'>"
      ]
     },
     "execution_count": 35,
     "metadata": {},
     "output_type": "execute_result"
    },
    {
     "data": {
      "image/png": "[encoded data removed]",
      "text/plain": [
       "<Figure size 432x288 with 1 Axes>"
      ]
     },
     "metadata": {
      "needs_background": "light"
     },
     "output_type": "display_data"
    }
   ],
   "source": [
    "sns.scatterplot(data=df1, x=\"Electric Range\", y=\"Base MSRP\")"
   ]
  },
  {
   "cell_type": "code",
   "execution_count": 36,
   "id": "897a6631",
   "metadata": {},
   "outputs": [
    {
     "data": {
      "text/plain": [
       "<AxesSubplot:xlabel='Electric Range', ylabel='Clean Alternative Fuel Vehicle (CAFV) Eligibility'>"
      ]
     },
     "execution_count": 36,
     "metadata": {},
     "output_type": "execute_result"
    },
    {
     "data": {
      "image/png": "[encoded data removed]",
      "text/plain": [
       "<Figure size 432x288 with 1 Axes>"
      ]
     },
     "metadata": {
      "needs_background": "light"
     },
     "output_type": "display_data"
    }
   ],
   "source": [
    "sns.stripplot(data=df1, x=\"Electric Range\", y=\"Clean Alternative Fuel Vehicle (CAFV) Eligibility\", hue=\"Electric Vehicle Type\")"
   ]
  },
  {
   "cell_type": "code",
   "execution_count": null,
   "id": "76916b96",
   "metadata": {},
   "outputs": [],
   "source": []
  }
 ],
 "metadata": {
  "kernelspec": {
   "display_name": "Python 3 (ipykernel)",
   "language": "python",
   "name": "python3"
  },
  "language_info": {
   "codemirror_mode": {
    "name": "ipython",
    "version": 3
   },
   "file_extension": ".py",
   "mimetype": "text/x-python",
   "name": "python",
   "nbconvert_exporter": "python",
   "pygments_lexer": "ipython3",
   "version": "3.9.12"
  }
 },
 "nbformat": 4,
 "nbformat_minor": 5
}
